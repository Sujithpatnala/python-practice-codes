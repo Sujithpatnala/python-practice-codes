{
  "nbformat": 4,
  "nbformat_minor": 0,
  "metadata": {
    "colab": {
      "provenance": [],
      "authorship_tag": "ABX9TyOp+BUnQal3GRmZQmoZiOTK",
      "include_colab_link": true
    },
    "kernelspec": {
      "name": "python3",
      "display_name": "Python 3"
    },
    "language_info": {
      "name": "python"
    }
  },
  "cells": [
    {
      "cell_type": "markdown",
      "metadata": {
        "id": "view-in-github",
        "colab_type": "text"
      },
      "source": [
        "<a href=\"https://colab.research.google.com/github/Sujithpatnala/python-practice-codes/blob/main/Untitled7.ipynb\" target=\"_parent\"><img src=\"https://colab.research.google.com/assets/colab-badge.svg\" alt=\"Open In Colab\"/></a>"
      ]
    },
    {
      "cell_type": "markdown",
      "source": [
        "Write a Python program to print \"Hello, World!\""
      ],
      "metadata": {
        "id": "-uKZfMSpU3GR"
      }
    },
    {
      "cell_type": "code",
      "execution_count": null,
      "metadata": {
        "id": "Ku6T7NBJUvJa"
      },
      "outputs": [],
      "source": [
        "print(\"Hello World!\")"
      ]
    },
    {
      "cell_type": "markdown",
      "source": [
        "Write a program to take two numbers as input and print their sum."
      ],
      "metadata": {
        "id": "a4tWES-IVE7i"
      }
    },
    {
      "cell_type": "code",
      "source": [
        "a = int(input(\"enter 1st number: \"))\n",
        "b = int(input(\"enter 2nd number: \"))\n",
        "c = a+b\n",
        "print(\"your sum is: \",c)"
      ],
      "metadata": {
        "id": "EIieVu3GVGjw"
      },
      "execution_count": null,
      "outputs": []
    },
    {
      "cell_type": "markdown",
      "source": [
        "Write a Python program to check if a number is even or odd."
      ],
      "metadata": {
        "id": "DUMbNdg2WQN3"
      }
    },
    {
      "cell_type": "code",
      "source": [
        "num = int(input(\"enter a number: \"))\n",
        "if (num%2==0):\n",
        "  print(\"your number is even\")\n",
        "else :\n",
        "  print(\"your number is odd\")"
      ],
      "metadata": {
        "id": "AUo9Vm-tWUP7"
      },
      "execution_count": null,
      "outputs": []
    },
    {
      "cell_type": "markdown",
      "source": [
        "Write a program to swap two numbers without using a third variable"
      ],
      "metadata": {
        "id": "9wtRod28XIxc"
      }
    },
    {
      "cell_type": "code",
      "source": [
        "d = int(input(\"enter 1st number: \"))\n",
        "e = int(input(\"enter 2nd number: \"))\n",
        "d = d + e\n",
        "e = d - e\n",
        "d = d - e\n",
        "print(\"after swapping\")\n",
        "print(\"d = \",d)\n",
        "print(\"e = \",e)\n"
      ],
      "metadata": {
        "id": "snPaH4LLXMK0"
      },
      "execution_count": null,
      "outputs": []
    },
    {
      "cell_type": "markdown",
      "source": [
        "Write a program to find the largest of three numbers."
      ],
      "metadata": {
        "id": "Yx18EsR1ZS3J"
      }
    },
    {
      "cell_type": "code",
      "source": [
        "f = int(input(\"enter 1st number: \"))\n",
        "g = int(input(\"enter 2nd number: \"))\n",
        "h = int(input(\"enter 3rd number: \"))\n",
        "if (f>g and f>h):\n",
        "  print(f,\"is larger number.\")\n",
        "elif (g>f and g>h):\n",
        "  print(g,\"is larger number.\")\n",
        "else :\n",
        "  print(h,\"is larger number.\")"
      ],
      "metadata": {
        "id": "c2XySACSZusJ"
      },
      "execution_count": null,
      "outputs": []
    },
    {
      "cell_type": "markdown",
      "source": [
        "Write a program to reverse a string (without using [::-1])"
      ],
      "metadata": {
        "id": "7YN8O0Jsd6AQ"
      }
    },
    {
      "cell_type": "code",
      "source": [
        "def reverse_string(s):\n",
        "  reverse = \"\"\n",
        "  for char in s:\n",
        "    reverse = char + reverse\n",
        "  return reverse\n",
        "\n",
        "text = str(input(\"write something: \"))\n",
        "print(reverse_string(text))"
      ],
      "metadata": {
        "id": "4KOcO95CeI37"
      },
      "execution_count": null,
      "outputs": []
    },
    {
      "cell_type": "code",
      "source": [
        "texts = str(input(\"write something: \"))\n",
        "reverse = \"\"\n",
        "for i in texts:\n",
        "  reverse = i + reverse\n",
        "print(reverse)\n"
      ],
      "metadata": {
        "id": "_TXnJbm-jLvj"
      },
      "execution_count": null,
      "outputs": []
    },
    {
      "cell_type": "markdown",
      "source": [
        "Write a program to count vowels and consonants in a string."
      ],
      "metadata": {
        "id": "15O5AmpFmTwG"
      }
    },
    {
      "cell_type": "code",
      "source": [
        "text = str(input(\"write something: \"))\n",
        "vowels = \"aeiouAEIOU\"\n",
        "vowel_count = 0\n",
        "constant_count = 0\n",
        "for i in text:\n",
        "  if i.isalpha():\n",
        "    if i in vowels:\n",
        "      vowel_count+=1\n",
        "    else:\n",
        "      constant_count+=1\n",
        "\n",
        "print(vowel_count)\n",
        "print(constant_count)"
      ],
      "metadata": {
        "id": "k7r8eL9mmUjg"
      },
      "execution_count": null,
      "outputs": []
    },
    {
      "cell_type": "markdown",
      "source": [
        "Write a program to check if a string is a palindrome."
      ],
      "metadata": {
        "id": "Up_4whZWvFxt"
      }
    },
    {
      "cell_type": "code",
      "source": [
        "string = str(input(\"write something: \"))\n",
        "a = string\n",
        "if (a == a[::-1]):\n",
        "  print(\"palindrome\")\n",
        "else :\n",
        "  print(\"not palindrome\")\n"
      ],
      "metadata": {
        "id": "lo-mO_rNvZT9"
      },
      "execution_count": null,
      "outputs": []
    },
    {
      "cell_type": "markdown",
      "source": [
        "Write a Python program to find the largest element in a list."
      ],
      "metadata": {
        "id": "Clj1qk5-3GgR"
      }
    },
    {
      "cell_type": "code",
      "source": [
        "a = [1, 2, 6, 5, 20, 6, 8]\n",
        "print(max(a))"
      ],
      "metadata": {
        "id": "fQmu-G--4Tcn"
      },
      "execution_count": null,
      "outputs": []
    },
    {
      "cell_type": "code",
      "source": [
        "b = [\"apple\", \"ball\", \"caterpiller\", \"deremon\", \"eagle\"]\n",
        "longest = \"\"\n",
        "for i in b:\n",
        "  if (len(i) > len(longest)):\n",
        "    longest = i\n",
        "print(longest)"
      ],
      "metadata": {
        "id": "m9Ny2t9v5umC"
      },
      "execution_count": null,
      "outputs": []
    },
    {
      "cell_type": "markdown",
      "source": [
        "Write a program to remove duplicates from a list."
      ],
      "metadata": {
        "id": "qTcIkWhF-gVe"
      }
    },
    {
      "cell_type": "code",
      "source": [
        "a = [1, 2 ,\"eagel\",\"fox\", \"eagel\", 5, 6, 5, 2, 3]\n",
        "b = set(a)\n",
        "c = list(b)\n",
        "print(c)"
      ],
      "metadata": {
        "id": "9hz2vOOg-j8j"
      },
      "execution_count": null,
      "outputs": []
    },
    {
      "cell_type": "markdown",
      "source": [
        "Write a program to print the Fibonacci series up to n terms."
      ],
      "metadata": {
        "id": "ZaFRziHBxJuN"
      }
    },
    {
      "cell_type": "code",
      "source": [
        "num = int(input(\"enter a number\"))\n",
        "a,b = 0,1\n",
        "for i in range(num):\n",
        "  print(a,end=\" \")\n",
        "  a,b = b,a+b"
      ],
      "metadata": {
        "id": "Jj-wZ5-JxN4b"
      },
      "execution_count": null,
      "outputs": []
    },
    {
      "cell_type": "code",
      "source": [
        "def fibonocci(x):\n",
        "  a,b = 0,1\n",
        "  for i in range(x):\n",
        "    print(a,end=\" \")\n",
        "    a,b = b,a+b\n",
        "\n",
        "num = int(input(\"enter a number: \"))\n",
        "if (num<0):\n",
        "  print(\"enter positive number:\")\n",
        "else:\n",
        "  print(\"fibonocci series: \")\n",
        "  fibonocci(num)"
      ],
      "metadata": {
        "id": "0RkAkdzdz5a9"
      },
      "execution_count": null,
      "outputs": []
    },
    {
      "cell_type": "markdown",
      "source": [
        "Write a Python program to check if a number is prime or not."
      ],
      "metadata": {
        "id": "NtFf7dQT2urh"
      }
    },
    {
      "cell_type": "code",
      "source": [
        "n = int(input(\"enter a number: \"))\n",
        "if (n<2):\n",
        "  print(f\"{n} is not a prime number\")\n",
        "else:\n",
        "  for i in range(2,n):\n",
        "    if n % i == 0 or (n % i == 0)>1 :\n",
        "      print(f\"{n} is not a prime number\")\n",
        "    else :\n",
        "      print(f\"{n} is a prime number\")\n",
        ""
      ],
      "metadata": {
        "id": "lyXmT9Jk21lJ"
      },
      "execution_count": null,
      "outputs": []
    },
    {
      "cell_type": "code",
      "source": [
        "n = int(input(\"Enter a number: \"))\n",
        "\n",
        "if n < 2:\n",
        "    print(f\"{n} is not a prime number\")\n",
        "else:\n",
        "    is_prime = True  # Assume the number is prime initially\n",
        "    for i in range(2, int(n ** 0.5) + 1):  # Loop only up to √n for efficiency\n",
        "        if n % i == 0:\n",
        "            is_prime = False\n",
        "            break  # Stop checking once we find a divisor\n",
        "\n",
        "    if is_prime:\n",
        "        print(f\"{n} is a prime number\")\n",
        "    else:\n",
        "        print(f\"{n} is not a prime number\")\n"
      ],
      "metadata": {
        "id": "2msvFEYiHplb"
      },
      "execution_count": null,
      "outputs": []
    },
    {
      "cell_type": "markdown",
      "source": [
        "Write a Python program to find the factorial of a number using recursion."
      ],
      "metadata": {
        "id": "htzvM7qBHsu2"
      }
    },
    {
      "cell_type": "code",
      "source": [
        "num = int(input(\"enter a  number: \"))\n",
        "n = 1\n",
        "for i in range(1,num+1):\n",
        "  n *= i\n",
        "print(n)"
      ],
      "metadata": {
        "id": "byV5p_MwH1ym"
      },
      "execution_count": null,
      "outputs": []
    },
    {
      "cell_type": "code",
      "source": [
        "def factorial(n):\n",
        "  if n<=1 :\n",
        "    return 1\n",
        "  return n * factorial(n-1)\n",
        "num = int(input(\"enter a number: \"))\n",
        "if (num<0):\n",
        "  print(\"invalid due to negative number\")\n",
        "else :\n",
        "  print(f\"{num} factorial is {factorial(num)}\")"
      ],
      "metadata": {
        "id": "h9pjsU2fQYA_"
      },
      "execution_count": null,
      "outputs": []
    },
    {
      "cell_type": "markdown",
      "source": [
        "Write a Python program to print a pattern like this:"
      ],
      "metadata": {
        "id": "iApyqnuGSMxq"
      }
    },
    {
      "cell_type": "code",
      "source": [
        "a = int(input(\"enter a number: \"))\n",
        "for i in range(a):\n",
        "  for j in range(i+1):\n",
        "    print(\"*\",end=\" \")\n",
        "  print()"
      ],
      "metadata": {
        "colab": {
          "base_uri": "https://localhost:8080/"
        },
        "id": "NOtPXcVoSNnf",
        "outputId": "3d67da56-952e-4268-e32d-e48172cb5e53"
      },
      "execution_count": 2,
      "outputs": [
        {
          "output_type": "stream",
          "name": "stdout",
          "text": [
            "enter a number: 5\n",
            "\n",
            "* \n",
            "* * \n",
            "* * * \n",
            "* * * * \n",
            "enter a number: 6\n",
            "\n",
            "* \n",
            "* * \n",
            "* * * \n",
            "* * * * \n",
            "* * * * * \n"
          ]
        }
      ]
    },
    {
      "cell_type": "markdown",
      "source": [
        "Write a program to find the sum of digits of a number."
      ],
      "metadata": {
        "id": "zzLR9BzxUe2J"
      }
    },
    {
      "cell_type": "code",
      "source": [
        "a = str(input(\"enter a number: \"))\n",
        "astr = str(a)\n",
        "sum = 0\n",
        "for i in astr:\n",
        "  sum += int(i)\n",
        "  print(sum)"
      ],
      "metadata": {
        "id": "ATsPQyU2U1vP"
      },
      "execution_count": null,
      "outputs": []
    }
  ]
}